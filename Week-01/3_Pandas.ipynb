{
 "cells": [
  {
   "cell_type": "code",
   "execution_count": null,
   "metadata": {
    "executionInfo": {
     "elapsed": 245,
     "status": "ok",
     "timestamp": 1633785940345,
     "user": {
      "displayName": "Siqi Zhu",
      "photoUrl": "https://lh3.googleusercontent.com/a/default-user=s64",
      "userId": "02076422343367812283"
     },
     "user_tz": -60
    },
    "id": "tueWGAk75g2h"
   },
   "outputs": [],
   "source": [
    "#import numpy as np\n",
    "!pip install pandas\n",
    "import pandas as pd"
   ]
  },
  {
   "cell_type": "markdown",
   "metadata": {
    "id": "z1af0RN_6BN4"
   },
   "source": [
    "## 1. Series\n",
    "### 1.1 Intro\n",
    "* one dimensional array consisting of the same element type.\n",
    "\n",
    "\n",
    "| Data Structure | Order | Index |\n",
    "| ----- | ---- | ----- |\n",
    "| Series | have order | have index |\n",
    "| list | have order | no index |\n",
    "| dictionary | no order | have index |\n",
    "\n",
    "* #### Properties\n",
    "index, name, vlues, dtype\n",
    "\n",
    "### 1.2 Constructing\n",
    "* pd.Series(data=None, index=None, name=None)\n",
    "\n",
    "* data has no index:\n",
    "default index --> range(0, data.shape[0])\n",
    "\n",
    "* provide index:\n",
    "len(index) needs to be the same with data\n",
    "\n",
    "* data has index:\n",
    "This means data is Series/dict\n",
    "if index provided again, the Series will be re-indexed"
   ]
  },
  {
   "cell_type": "code",
   "execution_count": null,
   "metadata": {
    "id": "hwMDIrL2u0y1"
   },
   "outputs": [],
   "source": [
    "# provide index\n",
    "data = [1, 2, 3]\n",
    "index = ['a', 'b', 'c']\n",
    "\n",
    "example = pd.Series(data=data, index=index, name='series')"
   ]
  },
  {
   "cell_type": "code",
   "execution_count": null,
   "metadata": {
    "colab": {
     "base_uri": "https://localhost:8080/"
    },
    "executionInfo": {
     "elapsed": 4,
     "status": "ok",
     "timestamp": 1633593522599,
     "user": {
      "displayName": "Siqi Zhu",
      "photoUrl": "https://lh3.googleusercontent.com/a/default-user=s64",
      "userId": "02076422343367812283"
     },
     "user_tz": -60
    },
    "id": "7o5tyMLHvIKb",
    "outputId": "b46ec73f-d5b2-4283-d22f-78ab7c292ffa"
   },
   "outputs": [],
   "source": [
    "print(\"example:\\n\",example,\"\\n\")\n",
    "print(\"example.index:\\n\",example.index,\"\\n\")\n",
    "print(\"example.name:\\n\",example.name,\"\\n\")\n",
    "print(\"example.values:\\n\",example.values,\"\\n\")\n",
    "print(\"example.dtypes:\\n\",example.dtypes,\"\\n\")"
   ]
  },
  {
   "cell_type": "code",
   "execution_count": null,
   "metadata": {
    "colab": {
     "base_uri": "https://localhost:8080/"
    },
    "executionInfo": {
     "elapsed": 219,
     "status": "ok",
     "timestamp": 1633595240497,
     "user": {
      "displayName": "Siqi Zhu",
      "photoUrl": "https://lh3.googleusercontent.com/a/default-user=s64",
      "userId": "02076422343367812283"
     },
     "user_tz": -60
    },
    "id": "ppiqIV-Jw2rc",
    "outputId": "b57fc355-5fb8-44e2-ed0a-e2569e77ad32"
   },
   "outputs": [],
   "source": [
    "# data has no index\n",
    "data2 = [1, 2, 3]\n",
    "example2 = pd.Series(data=data2)\n",
    "example2"
   ]
  },
  {
   "cell_type": "code",
   "execution_count": null,
   "metadata": {
    "colab": {
     "base_uri": "https://localhost:8080/"
    },
    "executionInfo": {
     "elapsed": 215,
     "status": "ok",
     "timestamp": 1633595242370,
     "user": {
      "displayName": "Siqi Zhu",
      "photoUrl": "https://lh3.googleusercontent.com/a/default-user=s64",
      "userId": "02076422343367812283"
     },
     "user_tz": -60
    },
    "id": "pbJOELhOw_GX",
    "outputId": "bbcaee6d-f7d3-4e90-ced3-de26aa68bf41"
   },
   "outputs": [],
   "source": [
    "# data has index\n",
    "data3 = {'a':1, 'b':2, 'c':3}\n",
    "example3 = pd.Series(data=data3)\n",
    "example3"
   ]
  },
  {
   "cell_type": "code",
   "execution_count": null,
   "metadata": {
    "colab": {
     "base_uri": "https://localhost:8080/"
    },
    "executionInfo": {
     "elapsed": 202,
     "status": "ok",
     "timestamp": 1633595257107,
     "user": {
      "displayName": "Siqi Zhu",
      "photoUrl": "https://lh3.googleusercontent.com/a/default-user=s64",
      "userId": "02076422343367812283"
     },
     "user_tz": -60
    },
    "id": "hENsOSe63Jj5",
    "outputId": "4f6136f7-8a2e-4bc7-b5c0-e9ee2d55e985"
   },
   "outputs": [],
   "source": [
    "# re-index\n",
    "index3 = ['a', 'b', 'd']\n",
    "example3 = pd.Series(data=data3, index=index3)\n",
    "example3"
   ]
  },
  {
   "cell_type": "markdown",
   "metadata": {
    "id": "glfogTLQLPin"
   },
   "source": [
    "## 2. DataFrame\n",
    "### 2.1 Intro\n",
    "* 2 dimentional, Series **that share the same index** as columns\n",
    "* properties: index, column, values, dtype\n",
    "### 2.2 Constructing\n",
    "pd.DataFrame(data=None, index=None, columns=None)<br>\n",
    "same rule with series"
   ]
  },
  {
   "cell_type": "code",
   "execution_count": null,
   "metadata": {
    "colab": {
     "base_uri": "https://localhost:8080/",
     "height": 111
    },
    "executionInfo": {
     "elapsed": 234,
     "status": "ok",
     "timestamp": 1633595422976,
     "user": {
      "displayName": "Siqi Zhu",
      "photoUrl": "https://lh3.googleusercontent.com/a/default-user=s64",
      "userId": "02076422343367812283"
     },
     "user_tz": -60
    },
    "id": "fYqqvMCW5q53",
    "outputId": "41bd2339-7802-4ede-eca0-0a2a4ac1f5ab"
   },
   "outputs": [],
   "source": [
    "# provide row index and column index\n",
    "data = [[1,2,3],\n",
    "        [4,5,6]]\n",
    "index = ['a','b']\n",
    "columns = ['A','B','C']\n",
    "df = pd.DataFrame(data=data, index=index, columns=columns)\n",
    "df"
   ]
  },
  {
   "cell_type": "code",
   "execution_count": null,
   "metadata": {
    "colab": {
     "base_uri": "https://localhost:8080/"
    },
    "executionInfo": {
     "elapsed": 210,
     "status": "ok",
     "timestamp": 1633595540564,
     "user": {
      "displayName": "Siqi Zhu",
      "photoUrl": "https://lh3.googleusercontent.com/a/default-user=s64",
      "userId": "02076422343367812283"
     },
     "user_tz": -60
    },
    "id": "Gubf5WB64JvS",
    "outputId": "efe10764-ab82-43bd-e48f-461f08ef3da6"
   },
   "outputs": [],
   "source": [
    "print(\"df.index:\\n\",df.index,\"\\n\")\n",
    "print(\"df.columns:\\n\",df.columns,\"\\n\")\n",
    "print(\"df.values:\\n\",df.values,\"\\n\")\n",
    "print(\"df.dtypes:\\n\",df.dtypes,\"\\n\")"
   ]
  },
  {
   "cell_type": "code",
   "execution_count": null,
   "metadata": {
    "colab": {
     "base_uri": "https://localhost:8080/",
     "height": 142
    },
    "executionInfo": {
     "elapsed": 311,
     "status": "ok",
     "timestamp": 1633595869296,
     "user": {
      "displayName": "Siqi Zhu",
      "photoUrl": "https://lh3.googleusercontent.com/a/default-user=s64",
      "userId": "02076422343367812283"
     },
     "user_tz": -60
    },
    "id": "S5fLfd1t5Ukk",
    "outputId": "ecbfb149-0df3-4428-82a3-97b788523614"
   },
   "outputs": [],
   "source": [
    "# data has row index and column index\n",
    "data2 = { 'A' : { 'a':1, 'b':4}, 'B': {'a':2,'b':5}, 'C':{'a':3, 'c':6} }\n",
    "df = pd.DataFrame(data=data2)\n",
    "df"
   ]
  },
  {
   "cell_type": "markdown",
   "metadata": {
    "id": "xSodOafl6FtQ"
   },
   "source": [
    "## 3. Read File\n",
    "### From .csv\n",
    "pd.read_csv(filepath_or_buffer, sep=',', header='infer', names=None,index_col=None)"
   ]
  },
  {
   "cell_type": "code",
   "execution_count": null,
   "metadata": {
    "colab": {
     "base_uri": "https://localhost:8080/",
     "height": 204
    },
    "executionInfo": {
     "elapsed": 225,
     "status": "ok",
     "timestamp": 1633786124818,
     "user": {
      "displayName": "Siqi Zhu",
      "photoUrl": "https://lh3.googleusercontent.com/a/default-user=s64",
      "userId": "02076422343367812283"
     },
     "user_tz": -60
    },
    "id": "ZanHGr9k7U-8",
    "outputId": "f7398dd3-46ce-45c2-b7ea-6ca977c42f3d"
   },
   "outputs": [],
   "source": [
    "demo = pd.read_csv( 'username.csv', sep=';')\n",
    "demo.head()\n",
    "#demo.sort_values('').tail()"
   ]
  },
  {
   "cell_type": "code",
   "execution_count": null,
   "metadata": {
    "colab": {
     "base_uri": "https://localhost:8080/"
    },
    "executionInfo": {
     "elapsed": 264,
     "status": "ok",
     "timestamp": 1633728059301,
     "user": {
      "displayName": "Siqi Zhu",
      "photoUrl": "https://lh3.googleusercontent.com/a/default-user=s64",
      "userId": "02076422343367812283"
     },
     "user_tz": -60
    },
    "id": "bsqcAI5pvqrE",
    "outputId": "0df06301-80f7-47de-b9bf-de090d280510"
   },
   "outputs": [],
   "source": [
    "demo.shape"
   ]
  },
  {
   "cell_type": "code",
   "execution_count": null,
   "metadata": {
    "colab": {
     "base_uri": "https://localhost:8080/"
    },
    "executionInfo": {
     "elapsed": 251,
     "status": "ok",
     "timestamp": 1633728061334,
     "user": {
      "displayName": "Siqi Zhu",
      "photoUrl": "https://lh3.googleusercontent.com/a/default-user=s64",
      "userId": "02076422343367812283"
     },
     "user_tz": -60
    },
    "id": "oLYtLq_gvtGk",
    "outputId": "9ade0e8c-e6fe-4311-d100-44103ca2569b"
   },
   "outputs": [],
   "source": [
    "demo.dtypes"
   ]
  },
  {
   "cell_type": "code",
   "execution_count": null,
   "metadata": {
    "colab": {
     "base_uri": "https://localhost:8080/"
    },
    "executionInfo": {
     "elapsed": 273,
     "status": "ok",
     "timestamp": 1633728076143,
     "user": {
      "displayName": "Siqi Zhu",
      "photoUrl": "https://lh3.googleusercontent.com/a/default-user=s64",
      "userId": "02076422343367812283"
     },
     "user_tz": -60
    },
    "id": "7MH_ZzShviwW",
    "outputId": "9c41c99b-7e26-4c65-baac-68b77bafbc3a"
   },
   "outputs": [],
   "source": [
    "demo.isna().sum()"
   ]
  },
  {
   "cell_type": "code",
   "execution_count": null,
   "metadata": {
    "colab": {
     "base_uri": "https://localhost:8080/"
    },
    "executionInfo": {
     "elapsed": 300,
     "status": "ok",
     "timestamp": 1633789417230,
     "user": {
      "displayName": "Siqi Zhu",
      "photoUrl": "https://lh3.googleusercontent.com/a/default-user=s64",
      "userId": "02076422343367812283"
     },
     "user_tz": -60
    },
    "id": "VYpHrq2pb_lc",
    "outputId": "807a0189-1f02-46ab-ddbe-c819c741bc12"
   },
   "outputs": [],
   "source": [
    "demo.info()"
   ]
  },
  {
   "cell_type": "code",
   "execution_count": null,
   "metadata": {
    "colab": {
     "base_uri": "https://localhost:8080/"
    },
    "executionInfo": {
     "elapsed": 243,
     "status": "ok",
     "timestamp": 1633789437419,
     "user": {
      "displayName": "Siqi Zhu",
      "photoUrl": "https://lh3.googleusercontent.com/a/default-user=s64",
      "userId": "02076422343367812283"
     },
     "user_tz": -60
    },
    "id": "DFSoPEgUcCwN",
    "outputId": "d1fac276-619e-45f1-f96d-7db6c43b9b20"
   },
   "outputs": [],
   "source": [
    "demo.size"
   ]
  },
  {
   "cell_type": "code",
   "execution_count": null,
   "metadata": {
    "colab": {
     "base_uri": "https://localhost:8080/",
     "height": 297
    },
    "executionInfo": {
     "elapsed": 418,
     "status": "ok",
     "timestamp": 1633789457332,
     "user": {
      "displayName": "Siqi Zhu",
      "photoUrl": "https://lh3.googleusercontent.com/a/default-user=s64",
      "userId": "02076422343367812283"
     },
     "user_tz": -60
    },
    "id": "e5JV1MPFcHAF",
    "outputId": "2dbce26f-2aa1-4002-b9e3-866db30972dc"
   },
   "outputs": [],
   "source": [
    "demo.describe()"
   ]
  },
  {
   "cell_type": "markdown",
   "metadata": {
    "id": "_F83I5JJ7c-0"
   },
   "source": [
    "## 4. Data Manipulation \n",
    "### 4.1 Access\n"
   ]
  },
  {
   "cell_type": "code",
   "execution_count": null,
   "metadata": {
    "colab": {
     "base_uri": "https://localhost:8080/"
    },
    "executionInfo": {
     "elapsed": 274,
     "status": "ok",
     "timestamp": 1633728126803,
     "user": {
      "displayName": "Siqi Zhu",
      "photoUrl": "https://lh3.googleusercontent.com/a/default-user=s64",
      "userId": "02076422343367812283"
     },
     "user_tz": -60
    },
    "id": "6YritwfY6FKH",
    "outputId": "28a9257e-5019-4e1c-8add-cbd0b1bd99f5"
   },
   "outputs": [],
   "source": [
    "demo['Username']\n",
    "# return Series"
   ]
  },
  {
   "cell_type": "code",
   "execution_count": null,
   "metadata": {
    "colab": {
     "base_uri": "https://localhost:8080/",
     "height": 203
    },
    "executionInfo": {
     "elapsed": 297,
     "status": "ok",
     "timestamp": 1633728189059,
     "user": {
      "displayName": "Siqi Zhu",
      "photoUrl": "https://lh3.googleusercontent.com/a/default-user=s64",
      "userId": "02076422343367812283"
     },
     "user_tz": -60
    },
    "id": "2O_H3EdeyO_C",
    "outputId": "672acbd0-86f5-4d0f-e063-7ffa0fff1e58"
   },
   "outputs": [],
   "source": [
    "demo[['Username']]\n",
    "# return DataFrame"
   ]
  },
  {
   "cell_type": "code",
   "execution_count": null,
   "metadata": {
    "colab": {
     "base_uri": "https://localhost:8080/",
     "height": 110
    },
    "executionInfo": {
     "elapsed": 276,
     "status": "ok",
     "timestamp": 1633728228307,
     "user": {
      "displayName": "Siqi Zhu",
      "photoUrl": "https://lh3.googleusercontent.com/a/default-user=s64",
      "userId": "02076422343367812283"
     },
     "user_tz": -60
    },
    "id": "uREOYPpOyjm6",
    "outputId": "0792b1f4-1e4b-4821-cbe3-f3c2520f4761"
   },
   "outputs": [],
   "source": [
    "demo[0:2]\n",
    "# return DataFrame"
   ]
  },
  {
   "cell_type": "code",
   "execution_count": null,
   "metadata": {
    "colab": {
     "base_uri": "https://localhost:8080/",
     "height": 142
    },
    "executionInfo": {
     "elapsed": 285,
     "status": "ok",
     "timestamp": 1633728317243,
     "user": {
      "displayName": "Siqi Zhu",
      "photoUrl": "https://lh3.googleusercontent.com/a/default-user=s64",
      "userId": "02076422343367812283"
     },
     "user_tz": -60
    },
    "id": "0Rhp-y8Nyt5B",
    "outputId": "40bf5a75-bcd5-4e53-f3d0-d629daff5517"
   },
   "outputs": [],
   "source": [
    "demo[[True, False, True, True, False]]"
   ]
  },
  {
   "cell_type": "code",
   "execution_count": null,
   "metadata": {
    "colab": {
     "base_uri": "https://localhost:8080/",
     "height": 80
    },
    "executionInfo": {
     "elapsed": 262,
     "status": "ok",
     "timestamp": 1633731975036,
     "user": {
      "displayName": "Siqi Zhu",
      "photoUrl": "https://lh3.googleusercontent.com/a/default-user=s64",
      "userId": "02076422343367812283"
     },
     "user_tz": -60
    },
    "id": "uGB294tPzAxT",
    "outputId": "75ec951e-2072-4cc7-8846-2132beb7ac3e"
   },
   "outputs": [],
   "source": [
    "demo.loc[[0],['Username','First name']]\n",
    "# based on label"
   ]
  },
  {
   "cell_type": "code",
   "execution_count": null,
   "metadata": {
    "colab": {
     "base_uri": "https://localhost:8080/",
     "height": 110
    },
    "executionInfo": {
     "elapsed": 261,
     "status": "ok",
     "timestamp": 1633729216675,
     "user": {
      "displayName": "Siqi Zhu",
      "photoUrl": "https://lh3.googleusercontent.com/a/default-user=s64",
      "userId": "02076422343367812283"
     },
     "user_tz": -60
    },
    "id": "-7fkGW6d0lhl",
    "outputId": "27c117b3-daa8-49cf-e0a6-c38ad69736e5"
   },
   "outputs": [],
   "source": [
    "demo.iloc[0:2, 0:2]\n",
    "# based on integer position"
   ]
  },
  {
   "cell_type": "code",
   "execution_count": null,
   "metadata": {
    "colab": {
     "base_uri": "https://localhost:8080/",
     "height": 110
    },
    "executionInfo": {
     "elapsed": 6,
     "status": "ok",
     "timestamp": 1633729207100,
     "user": {
      "displayName": "Siqi Zhu",
      "photoUrl": "https://lh3.googleusercontent.com/a/default-user=s64",
      "userId": "02076422343367812283"
     },
     "user_tz": -60
    },
    "id": "Ba-mcUQe2QQX",
    "outputId": "785a7420-5b85-4ddc-aa87-4b0eb91f0b98"
   },
   "outputs": [],
   "source": [
    "demo.iloc[[0,2],[0,2]]"
   ]
  },
  {
   "cell_type": "markdown",
   "metadata": {
    "id": "feZz-T38BDer"
   },
   "source": [
    "### 4.2 Change values\n",
    "* assign\n",
    "* replace\n"
   ]
  },
  {
   "cell_type": "code",
   "execution_count": null,
   "metadata": {
    "colab": {
     "base_uri": "https://localhost:8080/",
     "height": 203
    },
    "executionInfo": {
     "elapsed": 260,
     "status": "ok",
     "timestamp": 1633732477742,
     "user": {
      "displayName": "Siqi Zhu",
      "photoUrl": "https://lh3.googleusercontent.com/a/default-user=s64",
      "userId": "02076422343367812283"
     },
     "user_tz": -60
    },
    "id": "BwWIBAUgCVOE",
    "outputId": "5564c0c1-a271-4984-ad87-e2f0cc0d0198"
   },
   "outputs": [],
   "source": [
    "demo.replace(to_replace='booker12', value='booker11', inplace=False)"
   ]
  },
  {
   "cell_type": "code",
   "execution_count": null,
   "metadata": {
    "colab": {
     "base_uri": "https://localhost:8080/",
     "height": 203
    },
    "executionInfo": {
     "elapsed": 251,
     "status": "ok",
     "timestamp": 1633732486694,
     "user": {
      "displayName": "Siqi Zhu",
      "photoUrl": "https://lh3.googleusercontent.com/a/default-user=s64",
      "userId": "02076422343367812283"
     },
     "user_tz": -60
    },
    "id": "lgERFIPbC1Wb",
    "outputId": "d2fe5710-c5ff-4afd-83db-9f142f9923a7"
   },
   "outputs": [],
   "source": [
    "demo"
   ]
  },
  {
   "cell_type": "code",
   "execution_count": null,
   "metadata": {
    "colab": {
     "base_uri": "https://localhost:8080/",
     "height": 235
    },
    "executionInfo": {
     "elapsed": 280,
     "status": "ok",
     "timestamp": 1633786367894,
     "user": {
      "displayName": "Siqi Zhu",
      "photoUrl": "https://lh3.googleusercontent.com/a/default-user=s64",
      "userId": "02076422343367812283"
     },
     "user_tz": -60
    },
    "id": "cvaovVrQC5ks",
    "outputId": "7d0eaaf5-cd9d-4c52-944c-60477842f55e"
   },
   "outputs": [],
   "source": [
    "demo1 = demo.copy()\n",
    "demo1.loc[5]=['repeated', 2333, 'Rachel', 'Booker']\n",
    "demo1"
   ]
  },
  {
   "cell_type": "code",
   "execution_count": null,
   "metadata": {
    "colab": {
     "base_uri": "https://localhost:8080/",
     "height": 235
    },
    "executionInfo": {
     "elapsed": 243,
     "status": "ok",
     "timestamp": 1633786361471,
     "user": {
      "displayName": "Siqi Zhu",
      "photoUrl": "https://lh3.googleusercontent.com/a/default-user=s64",
      "userId": "02076422343367812283"
     },
     "user_tz": -60
    },
    "id": "gjkLNgLSQN61",
    "outputId": "123da376-dc7f-4792-fc57-73b1957c0ddc"
   },
   "outputs": [],
   "source": [
    "demo1.replace({'First name':'Rachel'},'Amy')"
   ]
  },
  {
   "cell_type": "code",
   "execution_count": null,
   "metadata": {
    "colab": {
     "base_uri": "https://localhost:8080/",
     "height": 234
    },
    "executionInfo": {
     "elapsed": 262,
     "status": "ok",
     "timestamp": 1633732739676,
     "user": {
      "displayName": "Siqi Zhu",
      "photoUrl": "https://lh3.googleusercontent.com/a/default-user=s64",
      "userId": "02076422343367812283"
     },
     "user_tz": -60
    },
    "id": "sqhRvZThDkJv",
    "outputId": "eb5393de-14e4-411d-f7a4-10658e98b621"
   },
   "outputs": [],
   "source": [
    "demo1.replace(to_replace='Rachel', value='Amy', inplace=True)\n",
    "demo1"
   ]
  },
  {
   "cell_type": "markdown",
   "metadata": {
    "id": "Qmptq3uyOKuq"
   },
   "source": [
    "### 4.3 Add\n",
    "* assign\n",
    "* concatenation "
   ]
  },
  {
   "cell_type": "code",
   "execution_count": null,
   "metadata": {
    "colab": {
     "base_uri": "https://localhost:8080/",
     "height": 390
    },
    "executionInfo": {
     "elapsed": 244,
     "status": "ok",
     "timestamp": 1633786450454,
     "user": {
      "displayName": "Siqi Zhu",
      "photoUrl": "https://lh3.googleusercontent.com/a/default-user=s64",
      "userId": "02076422343367812283"
     },
     "user_tz": -60
    },
    "id": "EVNqeewAOmXs",
    "outputId": "2119d44c-eeb9-4dce-f2a6-8a36eadd0a1e"
   },
   "outputs": [],
   "source": [
    "pd.concat([demo, demo1], axis=0)"
   ]
  },
  {
   "cell_type": "markdown",
   "metadata": {
    "id": "Ft9hKlCVQ6fa"
   },
   "source": [
    "### 4.4 Delete\n",
    "* DataFrame.drop(labels, axis=0,  level=None, inplace=False)"
   ]
  },
  {
   "cell_type": "code",
   "execution_count": null,
   "metadata": {
    "colab": {
     "base_uri": "https://localhost:8080/",
     "height": 204
    },
    "executionInfo": {
     "elapsed": 508,
     "status": "ok",
     "timestamp": 1633788887779,
     "user": {
      "displayName": "Siqi Zhu",
      "photoUrl": "https://lh3.googleusercontent.com/a/default-user=s64",
      "userId": "02076422343367812283"
     },
     "user_tz": -60
    },
    "id": "cAqtVdzgRPPE",
    "outputId": "ec32ac9f-48e5-42e9-b60c-3fc8f4fa4716"
   },
   "outputs": [],
   "source": [
    "demo.drop('Last name',axis=1)"
   ]
  },
  {
   "cell_type": "markdown",
   "metadata": {
    "id": "exR_It5SIMh4"
   },
   "source": [
    "## Reference:\n",
    "https://github.com/hangsz/pandas-tutorial\n",
    "\n",
    "https://github.com/justmarkham/pycon-2019-tutorial\n",
    "\n",
    "https://pandas.pydata.org/docs/reference/"
   ]
  }
 ],
 "metadata": {
  "colab": {
   "authorship_tag": "ABX9TyPCymAE2f8L09NomrEV/k5I",
   "collapsed_sections": [],
   "name": "pandas.ipynb",
   "provenance": []
  },
  "kernelspec": {
   "display_name": "Python 3",
   "language": "python",
   "name": "python3"
  },
  "language_info": {
   "codemirror_mode": {
    "name": "ipython",
    "version": 3
   },
   "file_extension": ".py",
   "mimetype": "text/x-python",
   "name": "python",
   "nbconvert_exporter": "python",
   "pygments_lexer": "ipython3",
   "version": "3.8.6"
  }
 },
 "nbformat": 4,
 "nbformat_minor": 1
}
