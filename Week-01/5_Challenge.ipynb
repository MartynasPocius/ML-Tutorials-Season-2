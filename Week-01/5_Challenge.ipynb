{
 "cells": [
  {
   "cell_type": "markdown",
   "id": "6892a207",
   "metadata": {},
   "source": [
    "# Challenge - Global warming data analysis\n",
    "\n",
    "![global warming](https://th.bing.com/th/id/R.59a9ab47b7b9a1e50fb75b124c9b3c9f?rik=qBHpxbnGeuMNUA&pid=ImgRaw&r=0)\n",
    "\n",
    "### Description\n",
    "\n",
    "After looking through each library, it's now time to apply our skills in our first EDA.\n",
    "\n",
    "In this case study, we will analyze the global land temperature data in the countries with a goal to find any underlying relationships between the change in temperature and the geographical location.\n",
    "\n",
    "In addition, we should analyze the dataset as a whole: extracting statistical parameters, preprocessing the data and doing a bit of visualization.\n",
    "\n",
    "### Data\n",
    "\n",
    "For this task, we will be using the [Climate Change: Earth Surface Temperature dataset](https://www.kaggle.com/berkeleyearth/climate-change-earth-surface-temperature-data?select=GlobalLandTemperaturesByCountry.csv) which combines 1.6 billion temperature reports from 16 pre-existing archives (starting from 1750s). \n",
    "\n",
    "\n",
    "\n",
    "\n",
    "### Tasks\n",
    "\n",
    "1. Read and preprocess data (missing values, outliers, etc.)\n",
    "2. Find and visualize the 20 countries with the highest mean temperature\n",
    "3. Which countries had the largest change in temperature?\n",
    "4. What is the overall tendency?"
   ]
  },
  {
   "cell_type": "markdown",
   "id": "9ba91bcd",
   "metadata": {},
   "source": [
    "### Reading and describing data"
   ]
  },
  {
   "cell_type": "code",
   "execution_count": 1,
   "id": "8b4a9516",
   "metadata": {
    "collapsed": true
   },
   "outputs": [
    {
     "name": "stderr",
     "output_type": "stream",
     "text": [
      "C:\\Users\\marty\\anaconda3\\envs\\ai_learning\\lib\\site-packages\\numpy\\_distributor_init.py:30: UserWarning: loaded more than 1 DLL from .libs:\n",
      "C:\\Users\\marty\\anaconda3\\envs\\ai_learning\\lib\\site-packages\\numpy\\.libs\\libopenblas.WCDJNK7YVMPZQ2ME2ZZHJJRJ3JIKNDB7.gfortran-win_amd64.dll\n",
      "C:\\Users\\marty\\anaconda3\\envs\\ai_learning\\lib\\site-packages\\numpy\\.libs\\libopenblas.XWYDX2IKJW2NMTWSFYNGFUWKQU3LYTCZ.gfortran-win_amd64.dll\n",
      "  warnings.warn(\"loaded more than 1 DLL from .libs:\"\n"
     ]
    }
   ],
   "source": [
    "import matplotlib.pyplot as plt\n",
    "import numpy as np\n",
    "import pandas as pd"
   ]
  },
  {
   "cell_type": "code",
   "execution_count": 1,
   "id": "e446a4e9",
   "metadata": {},
   "outputs": [],
   "source": [
    "#---------------------------------TODO------------------------------------#\n",
    "#Reading the data from a path\n",
    "\n",
    "#Have a look of what the data is comprised of\n"
   ]
  },
  {
   "cell_type": "code",
   "execution_count": 2,
   "id": "96059bd6",
   "metadata": {},
   "outputs": [],
   "source": [
    "#Brief information of the dataset\n"
   ]
  },
  {
   "cell_type": "code",
   "execution_count": 3,
   "id": "7fcdde04",
   "metadata": {},
   "outputs": [],
   "source": [
    "#Find the number of countries\n"
   ]
  },
  {
   "cell_type": "markdown",
   "id": "2504a193",
   "metadata": {},
   "source": [
    "### Preprocessing\n",
    "\n",
    "As it can already be seen from the first glances at data, it contains a lot of NaN values which cannot be used for further analysis. Therefore, we need to remove these values from our dataset."
   ]
  },
  {
   "cell_type": "code",
   "execution_count": 4,
   "id": "28f08904",
   "metadata": {},
   "outputs": [],
   "source": [
    "# Check the number of missing values\n"
   ]
  },
  {
   "cell_type": "code",
   "execution_count": 5,
   "id": "9de3559e",
   "metadata": {},
   "outputs": [],
   "source": [
    "# Function that deals with missing values\n"
   ]
  },
  {
   "cell_type": "code",
   "execution_count": 6,
   "id": "891462cd",
   "metadata": {},
   "outputs": [],
   "source": [
    "#Check if everything went correctly\n"
   ]
  },
  {
   "cell_type": "markdown",
   "id": "dc6e6624",
   "metadata": {},
   "source": [
    "### Visualizing data\n",
    "\n",
    "Prior to completing the intended analysis, it also might be useful to explore the data in further."
   ]
  },
  {
   "cell_type": "code",
   "execution_count": 7,
   "id": "c8742f40",
   "metadata": {},
   "outputs": [],
   "source": [
    "# Find and visualize the 20 countries with the highest mean temperature\n"
   ]
  },
  {
   "cell_type": "code",
   "execution_count": 8,
   "id": "7992d522",
   "metadata": {},
   "outputs": [],
   "source": [
    "#Plotting bar graph\n"
   ]
  },
  {
   "cell_type": "markdown",
   "id": "f3456089",
   "metadata": {},
   "source": [
    "### Largest Temperature Change\n",
    "\n",
    "After performing the preprocessing and general data characterization, we can now find the countries that underwent the largest temperature change. There are numerous ways in which such task can be completed - the guided way is only a suggestion."
   ]
  },
  {
   "cell_type": "code",
   "execution_count": 9,
   "id": "e18e4d8f",
   "metadata": {},
   "outputs": [],
   "source": [
    "# Extracting the names of countries from the dataset\n"
   ]
  },
  {
   "cell_type": "code",
   "execution_count": 10,
   "id": "057b4619",
   "metadata": {},
   "outputs": [],
   "source": [
    "# Extracting the change in temperature using the loop\n"
   ]
  },
  {
   "cell_type": "code",
   "execution_count": 11,
   "id": "21b0a98c",
   "metadata": {},
   "outputs": [],
   "source": [
    "# Converting to dataframe and sorting in descending order\n"
   ]
  },
  {
   "cell_type": "code",
   "execution_count": 12,
   "id": "895af492",
   "metadata": {},
   "outputs": [],
   "source": [
    "# Generating bar plot\n"
   ]
  },
  {
   "cell_type": "markdown",
   "id": "d3e230c0",
   "metadata": {},
   "source": [
    "### Overall Tendencies\n",
    "\n",
    "There are a few ways in which we could determine the overall tendencies in the global surface temperature - we could analyze the temperature change per country or we could observe the change in the average global temperature. Let's look at both cases."
   ]
  },
  {
   "cell_type": "code",
   "execution_count": 13,
   "id": "3216ad37",
   "metadata": {
    "scrolled": true
   },
   "outputs": [],
   "source": [
    "# Plot the bar graph for all countries\n"
   ]
  },
  {
   "cell_type": "code",
   "execution_count": 15,
   "id": "149d87a5",
   "metadata": {},
   "outputs": [],
   "source": [
    "# Extract the average world temperature throughout the years\n",
    "\n",
    "# Plot the extracted data\n"
   ]
  }
 ],
 "metadata": {
  "kernelspec": {
   "display_name": "Python 3 (ipykernel)",
   "language": "python",
   "name": "python3"
  },
  "language_info": {
   "codemirror_mode": {
    "name": "ipython",
    "version": 3
   },
   "file_extension": ".py",
   "mimetype": "text/x-python",
   "name": "python",
   "nbconvert_exporter": "python",
   "pygments_lexer": "ipython3",
   "version": "3.9.6"
  }
 },
 "nbformat": 4,
 "nbformat_minor": 5
}
