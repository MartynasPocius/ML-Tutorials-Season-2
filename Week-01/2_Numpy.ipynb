{
 "cells": [
  {
   "cell_type": "markdown",
   "metadata": {},
   "source": [
    "# Week 1 - Exploratory data analysis\n",
    "\n",
    "## 2. Numpy\n",
    "\n",
    "Python has been highlighted as a great programming language in the field of data science because it is easy to learn and is supported by a number of scientific computing libraries. Numpy is one of the vital libraries that deals with mathematical computation and enables users to compute on multi-dimensional data structures more efficiently and easily.\n",
    "\n",
    "### 2.1 Basics\n",
    "\n",
    "Before starting, make sure you have installed the Numpy package by executing this shell:"
   ]
  },
  {
   "cell_type": "code",
   "execution_count": null,
   "metadata": {},
   "outputs": [],
   "source": [
    "!pip install numpy"
   ]
  },
  {
   "cell_type": "code",
   "execution_count": null,
   "metadata": {},
   "outputs": [],
   "source": [
    "import numpy as np\n",
    "print(np.__version__) # prints the current version of Numpy"
   ]
  },
  {
   "cell_type": "markdown",
   "metadata": {},
   "source": [
    "Numpy offers a very intuitive way of representing matrices as multidimensional arrays; this data structure builds upon the ```list``` datatype in Python. Here is an example of initializing a numpy array, and using some built-in functions to retrieve some information about it:"
   ]
  },
  {
   "cell_type": "code",
   "execution_count": null,
   "metadata": {},
   "outputs": [],
   "source": [
    "a = [1, 2, 3, 4] # normal Python list\n",
    "b = np.array([1, 2, 3, 4]) # Numpy rank 1 array\n",
    "\n",
    "print('-----List-----')\n",
    "print('Type:', type(a), '\\n')\n",
    "\n",
    "print('-----Numpy Array-----')\n",
    "print(\"Type: \", type(b))\n",
    "print(\"Shape: \", b.shape)\n",
    "print(\"The first element: \", b[0])\n",
    "print(\"The last element: \", b[-1])"
   ]
  },
  {
   "cell_type": "markdown",
   "metadata": {},
   "source": [
    "Numpy offers various ways of initializing arrays, use Numpy's documentations at https://numpy.org/doc/ to answer the questions below."
   ]
  },
  {
   "cell_type": "code",
   "execution_count": null,
   "metadata": {},
   "outputs": [],
   "source": [
    "\"\"\"\n",
    "TODO: Replace 'None's with appropriate answers\n",
    "e.g) b = np.None((2, 2)) --> np.ones((2, 2))\n",
    "\"\"\"\n",
    "\n",
    "# create a matrix full of ones\n",
    "b = np.None(2, 2)\n",
    "print(\"Matrix b\")\n",
    "print(b)\n",
    "\n",
    "# create a matrix full of zeros\n",
    "c = np.None((2, 3))\n",
    "print(\"\\nMatrix c\")\n",
    "print(c)\n",
    "\n",
    "# create an identity matrix\n",
    "d = np.None(3)\n",
    "print(\"\\nMatrix d\")\n",
    "print(d)\n",
    "\n",
    "# create a matrix filled with random numbers between 0 and 1\n",
    "e = np.None(2, 2)\n",
    "print(\"\\nMatrix e\")\n",
    "print(e)\n",
    "\n",
    "# create an array which has 0-9 as its elements in sorted order\n",
    "# expected output: [0, 1, 2, 3, 4, 5, 6, 7, 8, 9]\n",
    "f = np.None(10)\n",
    "print(\"\\nMatrix f\")\n",
    "print(f)\n",
    "\n",
    "# create a matrix placeholder, without initializing entries (elements in the matrix).\n",
    "g = np.None((5, 3))\n",
    "print(\"\\nMatrix g\")\n",
    "print(g)"
   ]
  },
  {
   "cell_type": "markdown",
   "metadata": {},
   "source": [
    "#### Why Numpy?\n",
    "\n",
    "You might be wondering, why do I need all these custom functions? Can I not do things the usual way, with for loops? The answer to that question is, of course, yes you can, but it will be *A LOT* slower. Let's see an example of the same function being implemented with and without NumPy."
   ]
  },
  {
   "cell_type": "code",
   "execution_count": null,
   "metadata": {},
   "outputs": [],
   "source": [
    "# A library to help us measure how fast our algorithms are\n",
    "import timeit\n",
    "\n",
    "def numpy_method(n):\n",
    "    return np.arange(n) ** 2\n",
    "    \n",
    "def for_loop_method(n):\n",
    "    result = []\n",
    "    for i in range(n):\n",
    "        result.append(i ** 2)\n",
    "        \n",
    "%timeit numpy_method(1000)\n",
    "%timeit for_loop_method(1000)"
   ]
  },
  {
   "cell_type": "markdown",
   "metadata": {},
   "source": [
    "There are 1000 microsecond(µs) in a millisecond(ms). That is, the NumPy method here is 1000 times faster than our for loop method. This shows us the beauty of NumPy - once you get the hang of it, you will be able to get the performance of a low-level language (like C++), but with the ease of use of a high-level language like (Python).\n",
    "\n",
    "**Note**: If you re-run the above, you will observe different values, however, the ratio of times should be comparable."
   ]
  },
  {
   "cell_type": "markdown",
   "metadata": {},
   "source": [
    "### 2.2 Matrix Operations\n",
    "\n",
    "In machine learning, we will deal with a lot of matrix calculations. It is therefore good for us to get accustomed to some of the common operations we perform on them. Here is a list of the first few:\n",
    "\n",
    "- `np.transpose()` : Transpose of an array\n",
    "- `np.dot(a, b)` : Dot product of two arrays\n",
    "- `np.linalg.inv()` : Inverse matrix of an array (only valid for square matrices, whose dimension is n * n)\n",
    "- `np.diagonal()` : Diagonal components of a two-dimensional array\n",
    "- `a.reshape(row = x, column = y)` : Reshape an array to the given dimension\n",
    "\n",
    "Now let's check what each of them does."
   ]
  },
  {
   "cell_type": "code",
   "execution_count": null,
   "metadata": {},
   "outputs": [],
   "source": [
    "# Initialise the data we will use below\n",
    "x = np.array([\n",
    "    [3, 11, 1],\n",
    "    [7, 5, 2],\n",
    "    [6, 8, 9],\n",
    "    [0, 10, 4]\n",
    "])\n",
    "x"
   ]
  },
  {
   "cell_type": "code",
   "execution_count": null,
   "metadata": {},
   "outputs": [],
   "source": [
    "# To Do: Transpose the array\n",
    "\n",
    "# Expected outcome:\n",
    "# [[ 3  7  6  0]\n",
    "#  [11  5  8 10]\n",
    "#  [ 1  2  9  4]]\n",
    "\n",
    "transposed = None\n",
    "transposed"
   ]
  },
  {
   "cell_type": "code",
   "execution_count": null,
   "metadata": {},
   "outputs": [],
   "source": [
    "# To Do: Dot product of two arrays: original x and x_transposed\n",
    "# (4x3) dot (3x4) should give you (4x4)\n",
    "\n",
    "# Expected outcome:\n",
    "# [[131  78 115 114]\n",
    "#  [ 78  78 100  58]\n",
    "#  [115 100 181 116]\n",
    "#  [114  58 116 116]]\n",
    "\n",
    "y = None\n",
    "y"
   ]
  },
  {
   "cell_type": "code",
   "execution_count": null,
   "metadata": {},
   "outputs": [],
   "source": [
    "# TODO: Do elementwise multiplication with 'broadcaster' and 'x' (replace 'None')\n",
    "# You will know what we meant by 'broadcast' once you check your result.\n",
    "\n",
    "# Expected outcome for the varible 'elementwise_broadcasting':\n",
    "# [[ 0  0  0]\n",
    "# [ 7  5  2]\n",
    "# [12 16 18]\n",
    "# [ 0 30 12]]\n",
    "\n",
    "broadcaster = np.array([\n",
    "    [0],\n",
    "    [1],\n",
    "    [2],\n",
    "    [3]\n",
    "])\n",
    "print(\"broadcaster: \\n{}\\n\".format(broadcaster))\n",
    "\n",
    "elementwise_broadcasting = None\n",
    "print(\"broadcasted: \\n{}\".format(elementwise_broadcasting))"
   ]
  },
  {
   "cell_type": "code",
   "execution_count": null,
   "metadata": {},
   "outputs": [],
   "source": [
    "# To Do: Extract the diagonal elements of an array x\n",
    "# Expected outcome: [3 5 9]\n",
    "\n",
    "diagonal = None\n",
    "print(diagonal)"
   ]
  },
  {
   "cell_type": "code",
   "execution_count": null,
   "metadata": {},
   "outputs": [],
   "source": [
    "# To Do: Reshape an array x to one that has 6 rows and 2 columns\n",
    "# Expected outcome: \n",
    "# [[ 3 11]\n",
    "#  [ 1  7]\n",
    "#  [ 5  2]\n",
    "#  [ 6  8]\n",
    "#  [ 9  0]\n",
    "#  [10  4]]\n",
    "reshaped = None\n",
    "print(reshaped)"
   ]
  },
  {
   "cell_type": "markdown",
   "metadata": {},
   "source": [
    "### 2.3 Statistics in Numpy\n",
    "\n",
    "When we deal with large amounts of data, we will often want to know things about the data as a whole. This is where NumPy's statistics come to the rescue. Most of them are self-explanatory:\n",
    "\n",
    "- `np.sum()` : sum of all elements in an array\n",
    "- `np.max()` : returns the maximum element in an array\n",
    "- `np.min()` : Minimum value of an array\n",
    "- `np.mean()` : Mean of elements in an array\n",
    "- `np.median()` : Median value among elements\n",
    "- `np.var()` : Variance of the elements in the array\n",
    "- `np.std()` : Standard deviation of the elements in the array\n",
    "\n",
    "As before, fill in the cells below to get used to these methods."
   ]
  },
  {
   "cell_type": "code",
   "execution_count": null,
   "metadata": {},
   "outputs": [],
   "source": [
    "x = np.array(\n",
    "    [34, 56, 6, 3, 9, 89, 120, 12, 201],\n",
    "    dtype = np.int32\n",
    ")"
   ]
  },
  {
   "cell_type": "code",
   "execution_count": null,
   "metadata": {},
   "outputs": [],
   "source": [
    "# To Do: Summation of elements \n",
    "# Expected outcome: 530\n",
    "summation = np.None(x)\n",
    "print(summation)"
   ]
  },
  {
   "cell_type": "code",
   "execution_count": null,
   "metadata": {},
   "outputs": [],
   "source": [
    "# To Do: Minimum element in the array\n",
    "# Expected outcome: 3\n",
    "minimum = x.None()\n",
    "print(minimum)"
   ]
  },
  {
   "cell_type": "code",
   "execution_count": null,
   "metadata": {},
   "outputs": [],
   "source": [
    "# To Do: Maximum element in the array\n",
    "# Expected outcome: 201\n",
    "maximum = x.None()\n",
    "print(maximum)"
   ]
  },
  {
   "cell_type": "code",
   "execution_count": null,
   "metadata": {},
   "outputs": [],
   "source": [
    "# To Do: Average value of elements in the array\n",
    "# Expected outcome: 58.89\n",
    "mean = x.None()\n",
    "print(mean)"
   ]
  },
  {
   "cell_type": "code",
   "execution_count": null,
   "metadata": {},
   "outputs": [],
   "source": [
    "# To Do: Median element in the array\n",
    "# Expected outcome: 34.0\n",
    "median = np.None(x)\n",
    "print(median)"
   ]
  },
  {
   "cell_type": "code",
   "execution_count": null,
   "metadata": {},
   "outputs": [],
   "source": [
    "# TO DO: Variation of x\n",
    "# Expected outcome: 4008.098765432099\n",
    "variation = np.None(x)\n",
    "print(variation)"
   ]
  },
  {
   "cell_type": "code",
   "execution_count": null,
   "metadata": {},
   "outputs": [],
   "source": [
    "# To Do: Standard deviation of the array\n",
    "# Expected outcome: 63.3095471902311\n",
    "std = np.None(x)\n",
    "print(std)"
   ]
  },
  {
   "cell_type": "code",
   "execution_count": null,
   "metadata": {},
   "outputs": [],
   "source": [
    "# To Do: Standard deviation of the array with n-1 degrees of freedom\n",
    "# Expected outcome: 189.92864157069332\n",
    "std_sample = np.None(x)\n",
    "print(std_sample)"
   ]
  },
  {
   "cell_type": "markdown",
   "metadata": {},
   "source": [
    "### 2.4 Exercise\n",
    "\n",
    "Now let's start combining these concepts together to manipulate data."
   ]
  },
  {
   "cell_type": "code",
   "execution_count": null,
   "metadata": {},
   "outputs": [],
   "source": [
    "# Data we will use in this exercise\n",
    "x = np.array([\n",
    "    [1, 52, 22, 2, 31, 65, 7, 8, 24, 10],\n",
    "    [12, 2322, 33, 1, 2, 3, 99, 24, 1, 42],\n",
    "    [623, 24, 3, 56, 5, 2, 7, 85, 22, 110],\n",
    "    [63, 4, 3, 4, 5, 64, 7, 82, 3, 20],\n",
    "    [48, 8, 3, 24, 57, 63, 7, 8, 9, 1032],\n",
    "    [33, 64, 0, 24, 5, 6, 72, 832, 3, 10],\n",
    "    [12, 242, 2, 11, 52, 63, 32, 8, 96, 2],\n",
    "    [13, 223, 52, 4, 35, 62, 7, 8, 9, 10],\n",
    "    [19, 2, 3, 149, 15, 6, 172, 2, 2, 11],\n",
    "    [34, 23, 32, 24, 54, 63, 1, 5, 92, 7]\n",
    "])\n",
    "\n",
    "x.shape"
   ]
  },
  {
   "cell_type": "code",
   "execution_count": null,
   "metadata": {},
   "outputs": [],
   "source": [
    "# To Do: Extract the first column of x\n",
    "# expected outcome: [1 12 623 63 48 33 12 13 19 34]\n",
    "firstcol_x = None\n",
    "print(firstcol_x)"
   ]
  },
  {
   "cell_type": "code",
   "execution_count": null,
   "metadata": {},
   "outputs": [],
   "source": [
    "# To Do: extract the last row of x\n",
    "# expected outcome: [34 23 32 24 54 63 1 5 92 7]\n",
    "lastrow_x = None\n",
    "print(lastrow_x)"
   ]
  },
  {
   "cell_type": "code",
   "execution_count": null,
   "metadata": {},
   "outputs": [],
   "source": [
    "# To Do: calculate the mean of elements in the last row\n",
    "# expected outcome: 33.5\n",
    "mean_lastrow = None\n",
    "print(mean_lastrow)"
   ]
  },
  {
   "cell_type": "code",
   "execution_count": null,
   "metadata": {},
   "outputs": [],
   "source": [
    "# To Do : calculate the diagonal components of x\n",
    "# expected outcome: [1 2322 3 4 57 6 32 8 2 7]\n",
    "diag_x = None\n",
    "print(diag_x)"
   ]
  },
  {
   "cell_type": "code",
   "execution_count": null,
   "metadata": {},
   "outputs": [],
   "source": [
    "# To Do: calculate the variatoin of the diagonal components of x\n",
    "# expected outcome: 479979.9600000001\n",
    "var_diag = None\n",
    "print(var_diag)"
   ]
  }
 ],
 "metadata": {
  "kernelspec": {
   "display_name": "Python 3",
   "language": "python",
   "name": "python3"
  },
  "language_info": {
   "codemirror_mode": {
    "name": "ipython",
    "version": 3
   },
   "file_extension": ".py",
   "mimetype": "text/x-python",
   "name": "python",
   "nbconvert_exporter": "python",
   "pygments_lexer": "ipython3",
   "version": "3.8.3"
  }
 },
 "nbformat": 4,
 "nbformat_minor": 4
}
