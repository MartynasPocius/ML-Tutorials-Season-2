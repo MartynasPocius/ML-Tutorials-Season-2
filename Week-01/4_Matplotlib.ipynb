{
 "cells": [
  {
   "cell_type": "markdown",
   "id": "2298e060",
   "metadata": {},
   "source": [
    "# Week 1 - Exploratory data analysis\n",
    "\n",
    "## 4. Matplotlib\n",
    "\n",
    "As it has been mentioned in the introduction, the goal of exploratory data analysis (or EDA) is to **analyze**, **summarize** and **visualize** data. The libraries we have just learned (NumPy and Pandas) does not provide a visualization option which brings us to another common library - Matplotlib.\n",
    "\n",
    "### 4.1 Basics\n",
    "\n",
    "First, install the matplotlib libary by running the cell below:"
   ]
  },
  {
   "cell_type": "code",
   "execution_count": null,
   "id": "364a0a58",
   "metadata": {},
   "outputs": [],
   "source": [
    "!pip install matplotlib"
   ]
  },
  {
   "cell_type": "markdown",
   "id": "618bfda0",
   "metadata": {},
   "source": [
    "In the following cell, we import the library, while ```%matplotlib incline``` command ensures that the produced graphs can be seen below each cell."
   ]
  },
  {
   "cell_type": "code",
   "execution_count": null,
   "id": "148184d2",
   "metadata": {},
   "outputs": [],
   "source": [
    "import matplotlib.pyplot as plt\n",
    "%matplotlib inline"
   ]
  },
  {
   "cell_type": "markdown",
   "id": "4aab491d",
   "metadata": {},
   "source": [
    "To demonstrate the basics of matplotlib plotting functionalities let's say we want to plot **cosine** function between $0$ and $2\\pi$."
   ]
  },
  {
   "cell_type": "code",
   "execution_count": null,
   "id": "ab255d36",
   "metadata": {},
   "outputs": [],
   "source": [
    "import numpy as np\n",
    "\n",
    "x = np.arange(0, 2 * np.pi, 0.01)\n",
    "y = np.cos(x)"
   ]
  },
  {
   "cell_type": "markdown",
   "id": "60cdd521",
   "metadata": {},
   "source": [
    "Plotting and formating the graph for sin and cosine functions is relatively straightforward"
   ]
  },
  {
   "cell_type": "code",
   "execution_count": null,
   "id": "d1e9429c",
   "metadata": {},
   "outputs": [],
   "source": [
    "#Plotting cosine function\n",
    "plt.plot(x, y)\n",
    "\n",
    "#Naming x and y axis\n",
    "plt.xlabel('x')\n",
    "plt.ylabel('y')\n",
    "\n",
    "#Naming the whole graph\n",
    "plt.title('y = cos(x)')\n",
    "\n",
    "#Including the grid (for better analysis)\n",
    "plt.grid()\n",
    "\n",
    "#Plotting the graph\n",
    "plt.show()"
   ]
  },
  {
   "cell_type": "markdown",
   "id": "06e5a40b",
   "metadata": {},
   "source": [
    "Plotting multiple graphs is quite similar. To demonstrate this, let's say that additionally we want to look at the **sine** graph in the same x interval."
   ]
  },
  {
   "cell_type": "code",
   "execution_count": null,
   "id": "100d18d3",
   "metadata": {},
   "outputs": [],
   "source": [
    "y_2 = np.sin(x)\n",
    "#Plotting multiple graphs\n",
    "plt.plot(x, y)\n",
    "plt.plot(x, y_2)\n",
    "\n",
    "plt.xlabel('x')\n",
    "plt.ylabel('y')\n",
    "plt.grid()\n",
    "\n",
    "plt.legend(['y = cos(x)', 'y = sin(x)'])\n",
    "plt.title('y = cos(x) and y = sin(x)')\n",
    "\n",
    "plt.show()"
   ]
  },
  {
   "cell_type": "markdown",
   "id": "455887f5",
   "metadata": {},
   "source": [
    "### 4.2 Types of plots\n",
    "\n",
    "After seeing the basic matplotlib visualization capabilities, we will continue to analyze different kinds of plots:\n",
    "- **Subplots**\n",
    "- **Bar graph**\n",
    "- **Box plot**\n",
    "- **Scatter plot**\n",
    "- **Heatmaps**\n",
    "\n",
    "### Subplots"
   ]
  },
  {
   "cell_type": "markdown",
   "id": "528dcf89",
   "metadata": {},
   "source": [
    "In the previous example, we wanted to plot the sine and cosine functions on the same figure. Frequently, however, such way of data visualization might be confusing (especially, when working with different orders of magnitude), thus we use **subplots** to analyze and **compare** two or more figures.\n",
    "\n",
    "Let's say we want to analyze the previous cosine function and changed sine function $y = x\\sin(2x)$. The following cell creates two subplots for both functions."
   ]
  },
  {
   "cell_type": "code",
   "execution_count": null,
   "id": "fae0f5da",
   "metadata": {},
   "outputs": [],
   "source": [
    "#Creating functions\n",
    "\n",
    "y_1 = np.cos(x)\n",
    "y_2 = x * np.sin(2 * x)\n",
    "\n",
    "# .subplots(num_rows, num_cols, figsize = (fig_width, fig_height))\n",
    "fig, ax = plt.subplots(1, 2, figsize = (40, 10))\n",
    "\n",
    "ax[0].plot(x, y_1)\n",
    "ax[0].set_xlabel('x', fontsize = 25)\n",
    "ax[0].set_ylabel('y', fontsize = 25)\n",
    "ax[0].set_title('y = cos(x)', fontsize = 25)\n",
    "\n",
    "ax[1].plot(x, y_2)\n",
    "ax[1].set_xlabel('x', fontsize = 25)\n",
    "ax[1].set_ylabel('y', fontsize = 25)\n",
    "ax[1].set_title('y = xsin(2x)', fontsize = 25)"
   ]
  },
  {
   "cell_type": "markdown",
   "id": "25f47d0e",
   "metadata": {},
   "source": [
    "### Bar graph\n",
    "\n",
    "Let's we want to analyze the desktop OS market worldwide market share in 2021 (https://gs.statcounter.com/os-market-share/desktop/worldwide). For such comparison, the bar chart might provide the most useful insights, but first, let's visualize 2021 data:"
   ]
  },
  {
   "cell_type": "code",
   "execution_count": null,
   "id": "b488b6f7",
   "metadata": {},
   "outputs": [],
   "source": [
    "prog_lang = ['Windows', 'OS X', 'Unknown', 'Chrome OS', 'Linux']\n",
    "percentage = [75.39, 15.93, 3.75, 2.57, 2.35]\n",
    "\n",
    "#computing bar graph\n",
    "plt.bar(prog_lang, percentage)\n",
    "\n",
    "#setting x label\n",
    "plt.xlabel('Desktop OS')\n",
    "\n",
    "#setting y label\n",
    "plt.ylabel('Market percentage (%)')\n",
    "\n",
    "#setting title\n",
    "plt.title('Desktop OS market distribution')\n",
    "\n",
    "plt.show()"
   ]
  },
  {
   "cell_type": "markdown",
   "id": "693c201e",
   "metadata": {},
   "source": [
    "Before moving on, we first might want to do a few adjustments to a current graph:\n",
    "- Reduce the bar width\n",
    "- Turn x axis labels for bars a bit\n",
    "\n",
    "The first adjustment can be easily made by setting the `width` parameter in the `plt.bar()` function to a smaller than 1 value.\n",
    "\n",
    "To turn the bar labels, we will need to use `plt.xticks()` function and setting `rotation` parameter to a desired angle.\n",
    "\n",
    "The updated code:"
   ]
  },
  {
   "cell_type": "code",
   "execution_count": null,
   "id": "3aa9681e",
   "metadata": {},
   "outputs": [],
   "source": [
    "#decreasing the bar width\n",
    "bar_width = 0.7\n",
    "\n",
    "plt.bar(prog_lang, percentage, width = bar_width)\n",
    "\n",
    "plt.xlabel('Desktop OS')\n",
    "plt.ylabel('Market percentage (%)')\n",
    "plt.title('Desktop OS market distribution')\n",
    "\n",
    "#rotating the x axis bar titles at 45 degrees\n",
    "plt.xticks(rotation = 45)\n",
    "\n",
    "plt.show()"
   ]
  },
  {
   "cell_type": "markdown",
   "id": "c99bdc6b",
   "metadata": {},
   "source": [
    "### Box plot\n",
    "\n",
    "The main goal of the box plot is to provide statistical information about the **distribution of numerical data** divided into groups. Thus, it is useful when **detecting an outlier** for each category.\n",
    "\n",
    "For the demonstration purposes, we will create a dummy dataset containing 4 normally distributed categories."
   ]
  },
  {
   "cell_type": "code",
   "execution_count": null,
   "id": "7f0ba85b",
   "metadata": {},
   "outputs": [],
   "source": [
    "#setting random seed\n",
    "np.random.seed(10)\n",
    "\n",
    "data_1 = np.random.normal(80, 30, 200)\n",
    "data_2 = np.random.normal(90, 20, 200)\n",
    "data_3 = np.random.normal(10, 100, 200)\n",
    "data_4 = np.random.normal(25, 75, 200)\n",
    "\n",
    "data = [y_1, y_2, y_3, y_4]"
   ]
  },
  {
   "cell_type": "markdown",
   "id": "b89b9064",
   "metadata": {},
   "source": [
    "Creating box plot is a quite straightforward process"
   ]
  },
  {
   "cell_type": "code",
   "execution_count": null,
   "id": "ab5a9266",
   "metadata": {},
   "outputs": [],
   "source": [
    "plt.boxplot(data)\n",
    "plt.show()"
   ]
  },
  {
   "cell_type": "markdown",
   "id": "0dc9d2fb",
   "metadata": {},
   "source": [
    "### Scatter plot\n",
    "\n",
    "Prior to building any ML model, it is important to distinguish any correlation between the variables as inability to do so might result in inefficiency in the model training. Scatter plots are useful when demonstrating any relationship (correlation, outliers) between two variables.\n",
    "\n",
    "Let's say we want to look at the relationship between the previously created `data_1` and `data_2`. The scatter graph for this dataset could be simply computed in the following way"
   ]
  },
  {
   "cell_type": "code",
   "execution_count": null,
   "id": "a3f90994",
   "metadata": {},
   "outputs": [],
   "source": [
    "plt.scatter(data_1, data_2)\n",
    "plt.xlabel('data_1')\n",
    "plt.ylabel('data_2')\n",
    "plt.show()"
   ]
  },
  {
   "cell_type": "markdown",
   "id": "04f10649",
   "metadata": {},
   "source": [
    "Since both of the variables are randomly distributed, such graph does not show any useful information. One thing we could explore is customization: similar to previous types plots, the `plt.scatter()` function has some built-in parameters for that."
   ]
  },
  {
   "cell_type": "code",
   "execution_count": null,
   "id": "03265e61",
   "metadata": {},
   "outputs": [],
   "source": [
    "#defining the colors variable\n",
    "colors = range(len(data_1))\n",
    "\n",
    "#c here is responsible for the color change, while alpha controls the opacity\n",
    "plt.scatter(data_1, data_2, c = colors, alpha = 0.5)\n",
    "plt.xlabel('data_1')\n",
    "plt.ylabel('data_2')\n",
    "plt.show()"
   ]
  },
  {
   "cell_type": "markdown",
   "id": "e91827e5",
   "metadata": {},
   "source": [
    "### Heatmaps\n",
    "\n",
    "So far, we have learned different visualization methods for comparing multiple independent variables for one dependent variable (desktop OS market distribution). However, in the cases when we want to compare the multiple independent variables for multiple dependent variables, plotting numerous bar plots might get messy quite early. Thus, we use the **heatmaps**.\n",
    "\n",
    "For this example let's compare different countries according to the fruit growth (tons / year)"
   ]
  },
  {
   "cell_type": "code",
   "execution_count": null,
   "id": "998c5c2b",
   "metadata": {},
   "outputs": [],
   "source": [
    "#Preparing the data\n",
    "fruits = ['mango', 'watermelon', 'pineapple', 'strawberry', 'cherry', 'orange']\n",
    "\n",
    "countries = ['India', 'Australia', 'USA', 'Canada', 'Brazil', 'Germany', 'Spain']\n",
    "\n",
    "harvest = np.array([[0.8, 2.4, 2.5, 3.9, 0.0, 4.0, 0.0],\n",
    "                    [2.4, 0.0, 4.0, 1.0, 2.7, 0.0, 0.0],\n",
    "                    [1.1, 2.4, 0.8, 4.3, 1.9, 4.4, 0.0],\n",
    "                    [0.6, 0.0, 0.3, 0.0, 3.1, 0.0, 0.0],\n",
    "                    [0.7, 1.7, 0.6, 2.6, 2.2, 6.2, 0.0],\n",
    "                    [0.1, 2.0, 0.0, 1.4, 0.0, 1.9, 6.3]])"
   ]
  },
  {
   "cell_type": "code",
   "execution_count": null,
   "id": "1e4979e7",
   "metadata": {},
   "outputs": [],
   "source": [
    "#Creating subplot\n",
    "fig, ax = plt.subplots()\n",
    "img = ax.imshow(harvest)\n",
    "\n",
    "#Aranging the labels\n",
    "ax.set_xticks(np.arange(len(countries)))\n",
    "ax.set_yticks(np.arange(len(fruits)))\n",
    "\n",
    "#Naming those labels\n",
    "ax.set_xticklabels(countries)\n",
    "ax.set_yticklabels(fruits)\n",
    "\n",
    "#Setting the heatmap title\n",
    "ax.set_title('Growth of Fruits in Countries (tons / year)')\n",
    "plt.show()"
   ]
  },
  {
   "cell_type": "markdown",
   "id": "716ae0c9",
   "metadata": {},
   "source": [
    "It is visible that Spain has the largest orange harvest, while Germany is a leader in cherry harvest. However, from the current heatmap, we cannot sea the exact numerical difference which important as the coloring is not distinct in all places.\n",
    "\n",
    "In the following cell, we annotate each square as well as make a few adjustments to the layout of the graph."
   ]
  },
  {
   "cell_type": "code",
   "execution_count": null,
   "id": "ba887dcb",
   "metadata": {},
   "outputs": [],
   "source": [
    "#Creating subplot\n",
    "fig, ax = plt.subplots()\n",
    "img = ax.imshow(harvest)\n",
    "\n",
    "#Aranging the labels\n",
    "ax.set_xticks(np.arange(len(countries)))\n",
    "ax.set_yticks(np.arange(len(fruits)))\n",
    "\n",
    "#Naming those labels and rotating at 30 degrees\n",
    "ax.set_xticklabels(countries, rotation = 30)\n",
    "ax.set_yticklabels(fruits)\n",
    "\n",
    "#Annotating squares in the heatmap\n",
    "for i in range(len(fruits)):\n",
    "    for j in range(len(countries)):\n",
    "        \n",
    "        # annotating numeric value at the center of each square\n",
    "        text = ax.text(j, i, harvest[i, j], ha = 'center', va = 'center', \n",
    "                       color = 'w')\n",
    "\n",
    "\n",
    "#Setting the heatmap title\n",
    "ax.set_title('Growth of Fruits in Countries (tons / year)')\n",
    "plt.show()"
   ]
  }
 ],
 "metadata": {
  "kernelspec": {
   "display_name": "Python 3 (ipykernel)",
   "language": "python",
   "name": "python3"
  },
  "language_info": {
   "codemirror_mode": {
    "name": "ipython",
    "version": 3
   },
   "file_extension": ".py",
   "mimetype": "text/x-python",
   "name": "python",
   "nbconvert_exporter": "python",
   "pygments_lexer": "ipython3",
   "version": "3.9.6"
  }
 },
 "nbformat": 4,
 "nbformat_minor": 5
}
